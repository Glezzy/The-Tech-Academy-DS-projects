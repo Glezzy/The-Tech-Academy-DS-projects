{
 "cells": [
  {
   "cell_type": "code",
   "execution_count": 1,
   "metadata": {},
   "outputs": [],
   "source": [
    "import pandas as pd\n",
    "import numpy as np"
   ]
  },
  {
   "cell_type": "code",
   "execution_count": 3,
   "metadata": {},
   "outputs": [
    {
     "data": {
      "text/html": [
       "<div>\n",
       "<style scoped>\n",
       "    .dataframe tbody tr th:only-of-type {\n",
       "        vertical-align: middle;\n",
       "    }\n",
       "\n",
       "    .dataframe tbody tr th {\n",
       "        vertical-align: top;\n",
       "    }\n",
       "\n",
       "    .dataframe thead th {\n",
       "        text-align: right;\n",
       "    }\n",
       "</style>\n",
       "<table border=\"1\" class=\"dataframe\">\n",
       "  <thead>\n",
       "    <tr style=\"text-align: right;\">\n",
       "      <th></th>\n",
       "      <th>0</th>\n",
       "      <th>1</th>\n",
       "      <th>2</th>\n",
       "      <th>3</th>\n",
       "    </tr>\n",
       "  </thead>\n",
       "  <tbody>\n",
       "    <tr>\n",
       "      <th>0</th>\n",
       "      <td>Fruit Ninja</td>\n",
       "      <td>Game</td>\n",
       "      <td>14654</td>\n",
       "      <td>4.5</td>\n",
       "    </tr>\n",
       "    <tr>\n",
       "      <th>1</th>\n",
       "      <td>Water Rush</td>\n",
       "      <td>Game</td>\n",
       "      <td>41168</td>\n",
       "      <td>3.8</td>\n",
       "    </tr>\n",
       "    <tr>\n",
       "      <th>2</th>\n",
       "      <td>Candy Crush</td>\n",
       "      <td>Game</td>\n",
       "      <td>462354</td>\n",
       "      <td>4.9</td>\n",
       "    </tr>\n",
       "    <tr>\n",
       "      <th>3</th>\n",
       "      <td>7 Minute workout</td>\n",
       "      <td>Health</td>\n",
       "      <td>85764</td>\n",
       "      <td>2.7</td>\n",
       "    </tr>\n",
       "    <tr>\n",
       "      <th>4</th>\n",
       "      <td>Enlight Editor</td>\n",
       "      <td>Productivity</td>\n",
       "      <td>79654</td>\n",
       "      <td>3.5</td>\n",
       "    </tr>\n",
       "    <tr>\n",
       "      <th>5</th>\n",
       "      <td>Lark Health</td>\n",
       "      <td>Health</td>\n",
       "      <td>65737</td>\n",
       "      <td>4.5</td>\n",
       "    </tr>\n",
       "    <tr>\n",
       "      <th>6</th>\n",
       "      <td>Toy Blast</td>\n",
       "      <td>Game</td>\n",
       "      <td>78235</td>\n",
       "      <td>3.7</td>\n",
       "    </tr>\n",
       "    <tr>\n",
       "      <th>7</th>\n",
       "      <td>Hulu</td>\n",
       "      <td>Entertainment</td>\n",
       "      <td>984654</td>\n",
       "      <td>3.7</td>\n",
       "    </tr>\n",
       "    <tr>\n",
       "      <th>8</th>\n",
       "      <td>Netflix</td>\n",
       "      <td>Entertainment</td>\n",
       "      <td>989754</td>\n",
       "      <td>3.8</td>\n",
       "    </tr>\n",
       "    <tr>\n",
       "      <th>9</th>\n",
       "      <td>Chase</td>\n",
       "      <td>Productivity</td>\n",
       "      <td>54324</td>\n",
       "      <td>2.9</td>\n",
       "    </tr>\n",
       "    <tr>\n",
       "      <th>10</th>\n",
       "      <td>Postmates</td>\n",
       "      <td>Food and Drink</td>\n",
       "      <td>21546</td>\n",
       "      <td>3.1</td>\n",
       "    </tr>\n",
       "    <tr>\n",
       "      <th>11</th>\n",
       "      <td>Reddit</td>\n",
       "      <td>Entertainment</td>\n",
       "      <td>875423</td>\n",
       "      <td>4.5</td>\n",
       "    </tr>\n",
       "    <tr>\n",
       "      <th>12</th>\n",
       "      <td>Pinterest</td>\n",
       "      <td>Entertainment</td>\n",
       "      <td>874634</td>\n",
       "      <td>4.1</td>\n",
       "    </tr>\n",
       "  </tbody>\n",
       "</table>\n",
       "</div>"
      ],
      "text/plain": [
       "                   0               1       2    3\n",
       "0        Fruit Ninja            Game   14654  4.5\n",
       "1         Water Rush            Game   41168  3.8\n",
       "2        Candy Crush            Game  462354  4.9\n",
       "3   7 Minute workout          Health   85764  2.7\n",
       "4     Enlight Editor    Productivity   79654  3.5\n",
       "5        Lark Health          Health   65737  4.5\n",
       "6          Toy Blast            Game   78235  3.7\n",
       "7               Hulu   Entertainment  984654  3.7\n",
       "8            Netflix   Entertainment  989754  3.8\n",
       "9              Chase    Productivity   54324  2.9\n",
       "10         Postmates  Food and Drink   21546  3.1\n",
       "11            Reddit   Entertainment  875423  4.5\n",
       "12         Pinterest   Entertainment  874634  4.1"
      ]
     },
     "execution_count": 3,
     "metadata": {},
     "output_type": "execute_result"
    }
   ],
   "source": [
    "app_array = np.array([['Fruit Ninja', 'Game', 14654, 4.5],\n",
    "                     ['Water Rush', 'Game', 41168,3.8],\n",
    "                     ['Candy Crush', 'Game', 462354, 4.9],\n",
    "                     ['7 Minute workout', 'Health', 85764, 2.7],\n",
    "                     ['Enlight Editor', 'Productivity', 79654, 3.5],\n",
    "                     ['Lark Health', 'Health', 65737, 4.5],\n",
    "                     ['Toy Blast', 'Game', 78235, 3.7],\n",
    "                     ['Hulu', 'Entertainment', 984654, 3.7],\n",
    "                     ['Netflix', 'Entertainment', 989754, 3.8],\n",
    "                     ['Chase', 'Productivity', 54324, 2.9],\n",
    "                     ['Postmates', 'Food and Drink', 21546, 3.1],\n",
    "                     ['Reddit', 'Entertainment', 875423, 4.5],\n",
    "                     ['Pinterest', 'Entertainment', 874634, 4.1]\n",
    "                     ])\n",
    "\n",
    "phoneapps = pd.DataFrame(app_array)\n",
    "phoneapps"
   ]
  },
  {
   "cell_type": "code",
   "execution_count": 4,
   "metadata": {},
   "outputs": [
    {
     "data": {
      "text/html": [
       "<div>\n",
       "<style scoped>\n",
       "    .dataframe tbody tr th:only-of-type {\n",
       "        vertical-align: middle;\n",
       "    }\n",
       "\n",
       "    .dataframe tbody tr th {\n",
       "        vertical-align: top;\n",
       "    }\n",
       "\n",
       "    .dataframe thead th {\n",
       "        text-align: right;\n",
       "    }\n",
       "</style>\n",
       "<table border=\"1\" class=\"dataframe\">\n",
       "  <thead>\n",
       "    <tr style=\"text-align: right;\">\n",
       "      <th></th>\n",
       "      <th>Play Store Apps</th>\n",
       "      <th>Genre</th>\n",
       "      <th>Downloads</th>\n",
       "      <th>Rating</th>\n",
       "    </tr>\n",
       "  </thead>\n",
       "  <tbody>\n",
       "    <tr>\n",
       "      <th>0</th>\n",
       "      <td>Fruit Ninja</td>\n",
       "      <td>Game</td>\n",
       "      <td>14654</td>\n",
       "      <td>4.5</td>\n",
       "    </tr>\n",
       "    <tr>\n",
       "      <th>1</th>\n",
       "      <td>Water Rush</td>\n",
       "      <td>Game</td>\n",
       "      <td>41168</td>\n",
       "      <td>3.8</td>\n",
       "    </tr>\n",
       "    <tr>\n",
       "      <th>2</th>\n",
       "      <td>Candy Crush</td>\n",
       "      <td>Game</td>\n",
       "      <td>462354</td>\n",
       "      <td>4.9</td>\n",
       "    </tr>\n",
       "    <tr>\n",
       "      <th>3</th>\n",
       "      <td>7 Minute workout</td>\n",
       "      <td>Health</td>\n",
       "      <td>85764</td>\n",
       "      <td>2.7</td>\n",
       "    </tr>\n",
       "    <tr>\n",
       "      <th>4</th>\n",
       "      <td>Enlight Editor</td>\n",
       "      <td>Productivity</td>\n",
       "      <td>79654</td>\n",
       "      <td>3.5</td>\n",
       "    </tr>\n",
       "    <tr>\n",
       "      <th>5</th>\n",
       "      <td>Lark Health</td>\n",
       "      <td>Health</td>\n",
       "      <td>65737</td>\n",
       "      <td>4.5</td>\n",
       "    </tr>\n",
       "    <tr>\n",
       "      <th>6</th>\n",
       "      <td>Toy Blast</td>\n",
       "      <td>Game</td>\n",
       "      <td>78235</td>\n",
       "      <td>3.7</td>\n",
       "    </tr>\n",
       "    <tr>\n",
       "      <th>7</th>\n",
       "      <td>Hulu</td>\n",
       "      <td>Entertainment</td>\n",
       "      <td>984654</td>\n",
       "      <td>3.7</td>\n",
       "    </tr>\n",
       "    <tr>\n",
       "      <th>8</th>\n",
       "      <td>Netflix</td>\n",
       "      <td>Entertainment</td>\n",
       "      <td>989754</td>\n",
       "      <td>3.8</td>\n",
       "    </tr>\n",
       "    <tr>\n",
       "      <th>9</th>\n",
       "      <td>Chase</td>\n",
       "      <td>Productivity</td>\n",
       "      <td>54324</td>\n",
       "      <td>2.9</td>\n",
       "    </tr>\n",
       "    <tr>\n",
       "      <th>10</th>\n",
       "      <td>Postmates</td>\n",
       "      <td>Food and Drink</td>\n",
       "      <td>21546</td>\n",
       "      <td>3.1</td>\n",
       "    </tr>\n",
       "    <tr>\n",
       "      <th>11</th>\n",
       "      <td>Reddit</td>\n",
       "      <td>Entertainment</td>\n",
       "      <td>875423</td>\n",
       "      <td>4.5</td>\n",
       "    </tr>\n",
       "    <tr>\n",
       "      <th>12</th>\n",
       "      <td>Pinterest</td>\n",
       "      <td>Entertainment</td>\n",
       "      <td>874634</td>\n",
       "      <td>4.1</td>\n",
       "    </tr>\n",
       "  </tbody>\n",
       "</table>\n",
       "</div>"
      ],
      "text/plain": [
       "     Play Store Apps           Genre Downloads Rating\n",
       "0        Fruit Ninja            Game     14654    4.5\n",
       "1         Water Rush            Game     41168    3.8\n",
       "2        Candy Crush            Game    462354    4.9\n",
       "3   7 Minute workout          Health     85764    2.7\n",
       "4     Enlight Editor    Productivity     79654    3.5\n",
       "5        Lark Health          Health     65737    4.5\n",
       "6          Toy Blast            Game     78235    3.7\n",
       "7               Hulu   Entertainment    984654    3.7\n",
       "8            Netflix   Entertainment    989754    3.8\n",
       "9              Chase    Productivity     54324    2.9\n",
       "10         Postmates  Food and Drink     21546    3.1\n",
       "11            Reddit   Entertainment    875423    4.5\n",
       "12         Pinterest   Entertainment    874634    4.1"
      ]
     },
     "execution_count": 4,
     "metadata": {},
     "output_type": "execute_result"
    }
   ],
   "source": [
    "phoneapps.columns = ['Play Store Apps', 'Genre', 'Downloads', 'Rating']\n",
    "phoneapps"
   ]
  },
  {
   "cell_type": "code",
   "execution_count": 12,
   "metadata": {},
   "outputs": [
    {
     "data": {
      "text/html": [
       "<div>\n",
       "<style scoped>\n",
       "    .dataframe tbody tr th:only-of-type {\n",
       "        vertical-align: middle;\n",
       "    }\n",
       "\n",
       "    .dataframe tbody tr th {\n",
       "        vertical-align: top;\n",
       "    }\n",
       "\n",
       "    .dataframe thead th {\n",
       "        text-align: right;\n",
       "    }\n",
       "</style>\n",
       "<table border=\"1\" class=\"dataframe\">\n",
       "  <thead>\n",
       "    <tr style=\"text-align: right;\">\n",
       "      <th></th>\n",
       "      <th>Play Store Apps</th>\n",
       "      <th>Genre</th>\n",
       "      <th>Downloads</th>\n",
       "      <th>Rating</th>\n",
       "    </tr>\n",
       "    <tr>\n",
       "      <th>Play Store Apps</th>\n",
       "      <th></th>\n",
       "      <th></th>\n",
       "      <th></th>\n",
       "      <th></th>\n",
       "    </tr>\n",
       "  </thead>\n",
       "  <tbody>\n",
       "    <tr>\n",
       "      <th>Fruit Ninja</th>\n",
       "      <td>Fruit Ninja</td>\n",
       "      <td>Game</td>\n",
       "      <td>14654</td>\n",
       "      <td>4.5</td>\n",
       "    </tr>\n",
       "    <tr>\n",
       "      <th>Water Rush</th>\n",
       "      <td>Water Rush</td>\n",
       "      <td>Game</td>\n",
       "      <td>41168</td>\n",
       "      <td>3.8</td>\n",
       "    </tr>\n",
       "    <tr>\n",
       "      <th>Candy Crush</th>\n",
       "      <td>Candy Crush</td>\n",
       "      <td>Game</td>\n",
       "      <td>462354</td>\n",
       "      <td>4.9</td>\n",
       "    </tr>\n",
       "    <tr>\n",
       "      <th>7 Minute workout</th>\n",
       "      <td>7 Minute workout</td>\n",
       "      <td>Health</td>\n",
       "      <td>85764</td>\n",
       "      <td>2.7</td>\n",
       "    </tr>\n",
       "    <tr>\n",
       "      <th>Enlight Editor</th>\n",
       "      <td>Enlight Editor</td>\n",
       "      <td>Productivity</td>\n",
       "      <td>79654</td>\n",
       "      <td>3.5</td>\n",
       "    </tr>\n",
       "    <tr>\n",
       "      <th>Lark Health</th>\n",
       "      <td>Lark Health</td>\n",
       "      <td>Health</td>\n",
       "      <td>65737</td>\n",
       "      <td>4.5</td>\n",
       "    </tr>\n",
       "    <tr>\n",
       "      <th>Toy Blast</th>\n",
       "      <td>Toy Blast</td>\n",
       "      <td>Game</td>\n",
       "      <td>78235</td>\n",
       "      <td>3.7</td>\n",
       "    </tr>\n",
       "    <tr>\n",
       "      <th>Hulu</th>\n",
       "      <td>Hulu</td>\n",
       "      <td>Entertainment</td>\n",
       "      <td>984654</td>\n",
       "      <td>3.7</td>\n",
       "    </tr>\n",
       "    <tr>\n",
       "      <th>Netflix</th>\n",
       "      <td>Netflix</td>\n",
       "      <td>Entertainment</td>\n",
       "      <td>989754</td>\n",
       "      <td>3.8</td>\n",
       "    </tr>\n",
       "    <tr>\n",
       "      <th>Chase</th>\n",
       "      <td>Chase</td>\n",
       "      <td>Productivity</td>\n",
       "      <td>54324</td>\n",
       "      <td>2.9</td>\n",
       "    </tr>\n",
       "    <tr>\n",
       "      <th>Postmates</th>\n",
       "      <td>Postmates</td>\n",
       "      <td>Food and Drink</td>\n",
       "      <td>21546</td>\n",
       "      <td>3.1</td>\n",
       "    </tr>\n",
       "    <tr>\n",
       "      <th>Reddit</th>\n",
       "      <td>Reddit</td>\n",
       "      <td>Entertainment</td>\n",
       "      <td>875423</td>\n",
       "      <td>4.5</td>\n",
       "    </tr>\n",
       "    <tr>\n",
       "      <th>Pinterest</th>\n",
       "      <td>Pinterest</td>\n",
       "      <td>Entertainment</td>\n",
       "      <td>874634</td>\n",
       "      <td>4.1</td>\n",
       "    </tr>\n",
       "  </tbody>\n",
       "</table>\n",
       "</div>"
      ],
      "text/plain": [
       "                   Play Store Apps           Genre Downloads Rating\n",
       "Play Store Apps                                                    \n",
       "Fruit Ninja            Fruit Ninja            Game     14654    4.5\n",
       "Water Rush              Water Rush            Game     41168    3.8\n",
       "Candy Crush            Candy Crush            Game    462354    4.9\n",
       "7 Minute workout  7 Minute workout          Health     85764    2.7\n",
       "Enlight Editor      Enlight Editor    Productivity     79654    3.5\n",
       "Lark Health            Lark Health          Health     65737    4.5\n",
       "Toy Blast                Toy Blast            Game     78235    3.7\n",
       "Hulu                          Hulu   Entertainment    984654    3.7\n",
       "Netflix                    Netflix   Entertainment    989754    3.8\n",
       "Chase                        Chase    Productivity     54324    2.9\n",
       "Postmates                Postmates  Food and Drink     21546    3.1\n",
       "Reddit                      Reddit   Entertainment    875423    4.5\n",
       "Pinterest                Pinterest   Entertainment    874634    4.1"
      ]
     },
     "execution_count": 12,
     "metadata": {},
     "output_type": "execute_result"
    }
   ],
   "source": [
    "phoneapps.index = phoneapps['Play Store Apps']\n",
    "phoneapps"
   ]
  },
  {
   "cell_type": "code",
   "execution_count": 14,
   "metadata": {},
   "outputs": [
    {
     "data": {
      "text/plain": [
       "Play Store Apps    object\n",
       "Genre              object\n",
       "Downloads          object\n",
       "Rating             object\n",
       "dtype: object"
      ]
     },
     "execution_count": 14,
     "metadata": {},
     "output_type": "execute_result"
    }
   ],
   "source": [
    "phoneapps.dtypes"
   ]
  },
  {
   "cell_type": "code",
   "execution_count": 15,
   "metadata": {},
   "outputs": [],
   "source": [
    "phoneapps.Downloads = pd.to_numeric(phoneapps.Downloads)"
   ]
  },
  {
   "cell_type": "code",
   "execution_count": 16,
   "metadata": {},
   "outputs": [],
   "source": [
    "phoneapps.Rating = pd.to_numeric(phoneapps.Rating)"
   ]
  },
  {
   "cell_type": "code",
   "execution_count": 17,
   "metadata": {},
   "outputs": [
    {
     "data": {
      "text/plain": [
       "Play Store Apps     object\n",
       "Genre               object\n",
       "Downloads            int64\n",
       "Rating             float64\n",
       "dtype: object"
      ]
     },
     "execution_count": 17,
     "metadata": {},
     "output_type": "execute_result"
    }
   ],
   "source": [
    "phoneapps.dtypes"
   ]
  },
  {
   "cell_type": "code",
   "execution_count": 29,
   "metadata": {},
   "outputs": [
    {
     "data": {
      "text/plain": [
       "3.8"
      ]
     },
     "execution_count": 29,
     "metadata": {},
     "output_type": "execute_result"
    }
   ],
   "source": [
    "phoneapps['Rating'].median()"
   ]
  },
  {
   "cell_type": "code",
   "execution_count": 30,
   "metadata": {},
   "outputs": [
    {
     "data": {
      "text/plain": [
       "0    4.5\n",
       "dtype: float64"
      ]
     },
     "execution_count": 30,
     "metadata": {},
     "output_type": "execute_result"
    }
   ],
   "source": [
    "phoneapps['Rating'].mode()"
   ]
  },
  {
   "cell_type": "code",
   "execution_count": 31,
   "metadata": {},
   "outputs": [
    {
     "data": {
      "text/plain": [
       "3.8230769230769233"
      ]
     },
     "execution_count": 31,
     "metadata": {},
     "output_type": "execute_result"
    }
   ],
   "source": [
    "phoneapps['Rating'].mean()"
   ]
  },
  {
   "cell_type": "code",
   "execution_count": 32,
   "metadata": {},
   "outputs": [
    {
     "data": {
      "text/plain": [
       "355992.3846153846"
      ]
     },
     "execution_count": 32,
     "metadata": {},
     "output_type": "execute_result"
    }
   ],
   "source": [
    "phoneapps['Downloads'].mean()"
   ]
  },
  {
   "cell_type": "code",
   "execution_count": 33,
   "metadata": {},
   "outputs": [
    {
     "data": {
      "text/plain": [
       "79654.0"
      ]
     },
     "execution_count": 33,
     "metadata": {},
     "output_type": "execute_result"
    }
   ],
   "source": [
    "phoneapps['Downloads'].median()"
   ]
  },
  {
   "cell_type": "code",
   "execution_count": 34,
   "metadata": {},
   "outputs": [
    {
     "data": {
      "text/plain": [
       "0      14654\n",
       "1      21546\n",
       "2      41168\n",
       "3      54324\n",
       "4      65737\n",
       "5      78235\n",
       "6      79654\n",
       "7      85764\n",
       "8     462354\n",
       "9     874634\n",
       "10    875423\n",
       "11    984654\n",
       "12    989754\n",
       "dtype: int64"
      ]
     },
     "execution_count": 34,
     "metadata": {},
     "output_type": "execute_result"
    }
   ],
   "source": [
    "phoneapps['Downloads'].mode()"
   ]
  },
  {
   "cell_type": "code",
   "execution_count": null,
   "metadata": {},
   "outputs": [],
   "source": []
  }
 ],
 "metadata": {
  "kernelspec": {
   "display_name": "Python 3.7.3 64-bit",
   "language": "python",
   "name": "python37364bit935871f5f26d4124b278da17cf762b2a"
  },
  "language_info": {
   "codemirror_mode": {
    "name": "ipython",
    "version": 3
   },
   "file_extension": ".py",
   "mimetype": "text/x-python",
   "name": "python",
   "nbconvert_exporter": "python",
   "pygments_lexer": "ipython3",
   "version": "3.7.3"
  }
 },
 "nbformat": 4,
 "nbformat_minor": 2
}
